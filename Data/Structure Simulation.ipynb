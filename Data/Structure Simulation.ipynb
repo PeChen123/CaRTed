{
 "cells": [
  {
   "cell_type": "code",
   "execution_count": 1,
   "metadata": {},
   "outputs": [],
   "source": [
    "from package.Mat_sim import DataSim\n",
    "import numpy as np"
   ]
  },
  {
   "cell_type": "code",
   "execution_count": 2,
   "metadata": {},
   "outputs": [],
   "source": [
    "n_samples = 90\n",
    "d_vars = 4\n",
    "p = 3  # Probability of an edge\n",
    "eta = 1.5  # Decay parameter\n",
    "lag = 1  # Number of lags\n",
    "\n",
    "K = 10 # agent \n",
    "n_agent = n_samples // K\n",
    "\n",
    "\n",
    "# Instantiate the DataSim class\n",
    "data_sim = DataSim(sample_size=n_samples, d_size=d_vars, degree=p, eta=eta, lag=lag)\n",
    "\n",
    "# Intra-slice graph\n",
    "W = data_sim.W_sim()  # shape: d x d\n",
    "# inter-slice effects matrix A\n",
    "A = data_sim.A_sim()\n",
    "\n",
    "np.savez('eg_matrix.npz', W=W, A=A)\n"
   ]
  }
 ],
 "metadata": {
  "kernelspec": {
   "display_name": "myenv",
   "language": "python",
   "name": "python3"
  },
  "language_info": {
   "codemirror_mode": {
    "name": "ipython",
    "version": 3
   },
   "file_extension": ".py",
   "mimetype": "text/x-python",
   "name": "python",
   "nbconvert_exporter": "python",
   "pygments_lexer": "ipython3",
   "version": "3.11.1"
  }
 },
 "nbformat": 4,
 "nbformat_minor": 2
}
